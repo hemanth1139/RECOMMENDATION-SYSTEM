{
  "nbformat": 4,
  "nbformat_minor": 0,
  "metadata": {
    "colab": {
      "provenance": []
    },
    "kernelspec": {
      "name": "python3",
      "display_name": "Python 3"
    },
    "language_info": {
      "name": "python"
    }
  },
  "cells": [
    {
      "cell_type": "markdown",
      "source": [
        "# **RECOMMENDATION SYSTEM**\n",
        "\n"
      ],
      "metadata": {
        "id": "6H651uQA60MQ"
      }
    },
    {
      "cell_type": "code",
      "source": [
        "!pip install surprise"
      ],
      "metadata": {
        "colab": {
          "base_uri": "https://localhost:8080/"
        },
        "collapsed": true,
        "id": "mHjdZHZn4vM2",
        "outputId": "657a3d87-f9ca-4439-ae75-4984220d972f"
      },
      "execution_count": 2,
      "outputs": [
        {
          "output_type": "stream",
          "name": "stdout",
          "text": [
            "Collecting surprise\n",
            "  Downloading surprise-0.1-py2.py3-none-any.whl.metadata (327 bytes)\n",
            "Collecting scikit-surprise (from surprise)\n",
            "  Downloading scikit_surprise-1.1.4.tar.gz (154 kB)\n",
            "\u001b[?25l     \u001b[90m━━━━━━━━━━━━━━━━━━━━━━━━━━━━━━━━━━━━━━━━\u001b[0m \u001b[32m0.0/154.4 kB\u001b[0m \u001b[31m?\u001b[0m eta \u001b[36m-:--:--\u001b[0m\r\u001b[2K     \u001b[90m━━━━━━━━━━━━━━━━━━━━━━━━━━━━━━━━━━━━━━━━\u001b[0m \u001b[32m154.4/154.4 kB\u001b[0m \u001b[31m12.4 MB/s\u001b[0m eta \u001b[36m0:00:00\u001b[0m\n",
            "\u001b[?25h  Installing build dependencies ... \u001b[?25l\u001b[?25hdone\n",
            "  Getting requirements to build wheel ... \u001b[?25l\u001b[?25hdone\n",
            "  Preparing metadata (pyproject.toml) ... \u001b[?25l\u001b[?25hdone\n",
            "Requirement already satisfied: joblib>=1.2.0 in /usr/local/lib/python3.11/dist-packages (from scikit-surprise->surprise) (1.4.2)\n",
            "Requirement already satisfied: numpy>=1.19.5 in /usr/local/lib/python3.11/dist-packages (from scikit-surprise->surprise) (1.26.4)\n",
            "Requirement already satisfied: scipy>=1.6.0 in /usr/local/lib/python3.11/dist-packages (from scikit-surprise->surprise) (1.13.1)\n",
            "Downloading surprise-0.1-py2.py3-none-any.whl (1.8 kB)\n",
            "Building wheels for collected packages: scikit-surprise\n",
            "  Building wheel for scikit-surprise (pyproject.toml) ... \u001b[?25l\u001b[?25hdone\n",
            "  Created wheel for scikit-surprise: filename=scikit_surprise-1.1.4-cp311-cp311-linux_x86_64.whl size=2505173 sha256=54eb9514d116e0153eef4d01a6f145eef4c9f4e8001f072273bdc17717dc768b\n",
            "  Stored in directory: /root/.cache/pip/wheels/2a/8f/6e/7e2899163e2d85d8266daab4aa1cdabec7a6c56f83c015b5af\n",
            "Successfully built scikit-surprise\n",
            "Installing collected packages: scikit-surprise, surprise\n",
            "Successfully installed scikit-surprise-1.1.4 surprise-0.1\n"
          ]
        }
      ]
    },
    {
      "cell_type": "markdown",
      "source": [
        "**Installing requried packages from libraries**"
      ],
      "metadata": {
        "id": "Hth-6P6X7O2K"
      }
    },
    {
      "cell_type": "code",
      "source": [
        "import pandas as pd\n",
        "import matplotlib.pyplot as plt\n",
        "from surprise import Dataset, Reader, SVD, accuracy\n",
        "from surprise.model_selection import train_test_split\n"
      ],
      "metadata": {
        "id": "12tq6KcL5TXx"
      },
      "execution_count": 9,
      "outputs": []
    },
    {
      "cell_type": "markdown",
      "source": [
        "**Loading the dataset**"
      ],
      "metadata": {
        "id": "MfO3uEhK7U5E"
      }
    },
    {
      "cell_type": "code",
      "source": [
        "data = Dataset.load_builtin('ml-100k')\n",
        "title_data = pd.read_csv('http://files.grouplens.org/datasets/movielens/ml-100k/u.item', sep='|', encoding='latin-1', header=None, usecols=[0, 1], names=['movie_id', 'title'])\n",
        "title_mapping = dict(zip(title_data['movie_id'].astype(str), title_data['title']))"
      ],
      "metadata": {
        "id": "vOTqkUJ76MQh"
      },
      "execution_count": 11,
      "outputs": []
    },
    {
      "cell_type": "markdown",
      "source": [
        "**Splitting the dataset into train and test**"
      ],
      "metadata": {
        "id": "zv3cXJGk7auA"
      }
    },
    {
      "cell_type": "code",
      "source": [
        "trainset, testset = train_test_split(data, test_size=0.25)"
      ],
      "metadata": {
        "id": "IWPh_gGW6RRP"
      },
      "execution_count": 12,
      "outputs": []
    },
    {
      "cell_type": "markdown",
      "source": [
        "**Training the Model**"
      ],
      "metadata": {
        "id": "UsE0q9La7fSu"
      }
    },
    {
      "cell_type": "code",
      "source": [
        "algo = SVD()\n",
        "algo.fit(trainset)\n",
        "predictions = algo.test(testset)"
      ],
      "metadata": {
        "id": "Id6oelC96VpZ"
      },
      "execution_count": 14,
      "outputs": []
    },
    {
      "cell_type": "markdown",
      "source": [
        "**Evaluate the model**"
      ],
      "metadata": {
        "id": "75V-M3-77kdB"
      }
    },
    {
      "cell_type": "code",
      "source": [
        "rmse = accuracy.rmse(predictions)\n",
        "mae = accuracy.mae(predictions)"
      ],
      "metadata": {
        "colab": {
          "base_uri": "https://localhost:8080/"
        },
        "id": "clliIrt96awm",
        "outputId": "01a1d362-d783-4216-e336-ec2740fafc35"
      },
      "execution_count": 15,
      "outputs": [
        {
          "output_type": "stream",
          "name": "stdout",
          "text": [
            "RMSE: 0.9394\n",
            "MAE:  0.7434\n"
          ]
        }
      ]
    },
    {
      "cell_type": "markdown",
      "source": [
        "**Function to get top N recommendations for a specific user**\n"
      ],
      "metadata": {
        "id": "f1Kno1LJ7y98"
      }
    },
    {
      "cell_type": "code",
      "source": [
        "def get_top_n_recommendations(predictions, n=10):\n",
        "    from collections import defaultdict\n",
        "    top_n = defaultdict(list)\n",
        "    for uid, iid, true_r, est, _ in predictions:\n",
        "        top_n[uid].append((iid, est))\n",
        "    for uid, user_ratings in top_n.items():\n",
        "        user_ratings.sort(key=lambda x: x[1], reverse=True)\n",
        "        top_n[uid] = user_ratings[:n]\n",
        "\n",
        "    return top_n\n",
        "\n",
        "top_n = get_top_n_recommendations(predictions, n=10)\n",
        "user_id = '200'\n",
        "print(f\"Top 10 recommendations for User {user_id}:\")\n",
        "for movie_id, rating in top_n[user_id]:\n",
        "    movie_title = title_mapping.get(movie_id, \"Unknown Title\")\n",
        "    print(f\"Movie: {movie_title},Predicted Rating: {rating:.2f}\")"
      ],
      "metadata": {
        "colab": {
          "base_uri": "https://localhost:8080/"
        },
        "id": "STdaOs9V6eZt",
        "outputId": "7cfbc578-b8f9-44ee-d339-23f2d392ce97"
      },
      "execution_count": 22,
      "outputs": [
        {
          "output_type": "stream",
          "name": "stdout",
          "text": [
            "Top 10 recommendations for User 200:\n",
            "Movie: Casablanca (1942),Predicted Rating: 5.00\n",
            "Movie: Schindler's List (1993),Predicted Rating: 4.88\n",
            "Movie: Aliens (1986),Predicted Rating: 4.66\n",
            "Movie: Jurassic Park (1993),Predicted Rating: 4.64\n",
            "Movie: Blade Runner (1982),Predicted Rating: 4.58\n",
            "Movie: Boot, Das (1981),Predicted Rating: 4.56\n",
            "Movie: Young Frankenstein (1974),Predicted Rating: 4.55\n",
            "Movie: Hoop Dreams (1994),Predicted Rating: 4.53\n",
            "Movie: Snow White and the Seven Dwarfs (1937),Predicted Rating: 4.52\n",
            "Movie: Eat Drink Man Woman (1994),Predicted Rating: 4.52\n"
          ]
        }
      ]
    },
    {
      "cell_type": "markdown",
      "source": [
        "**Plotting the distribution of predicted ratings**"
      ],
      "metadata": {
        "id": "GOtDkxFD8AkK"
      }
    },
    {
      "cell_type": "code",
      "source": [
        "predicted_ratings = [pred.est for pred in predictions]\n",
        "plt.figure(figsize=(10, 6))\n",
        "plt.hist(predicted_ratings, bins=20, color='skyblue', edgecolor='black')\n",
        "plt.title('Distribution of Predicted Ratings')\n",
        "plt.xlabel('Predicted Rating')\n",
        "plt.ylabel('Frequency')\n",
        "plt.grid(axis='y', linestyle='--')\n",
        "plt.show()\n"
      ],
      "metadata": {
        "colab": {
          "base_uri": "https://localhost:8080/",
          "height": 564
        },
        "id": "E3ZxfMfn6tlM",
        "outputId": "5ae8b020-ddf0-4340-e500-84f4806d254e"
      },
      "execution_count": 20,
      "outputs": [
        {
          "output_type": "display_data",
          "data": {
            "text/plain": [
              "<Figure size 1000x600 with 1 Axes>"
            ],
            "image/png": "[encoded data removed]"
          },
          "metadata": {}
        }
      ]
    }
  ]
}